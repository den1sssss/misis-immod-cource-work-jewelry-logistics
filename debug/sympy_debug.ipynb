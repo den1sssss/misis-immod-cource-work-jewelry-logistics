{
 "cells": [
  {
   "cell_type": "code",
   "execution_count": 1,
   "metadata": {},
   "outputs": [],
   "source": [
    "import simpy"
   ]
  },
  {
   "cell_type": "code",
   "execution_count": 2,
   "metadata": {},
   "outputs": [],
   "source": [
    "def clock(env: simpy.Environment, name: str, tick: float):\n",
    "    while True:\n",
    "        print(name, env.now)\n",
    "        yield env.timeout(tick)"
   ]
  },
  {
   "cell_type": "code",
   "execution_count": 4,
   "metadata": {},
   "outputs": [
    {
     "name": "stdout",
     "output_type": "stream",
     "text": [
      "fast 0\n",
      "fast 0.5\n",
      "fast 1.0\n",
      "fast 1.5\n",
      "fast 2.0\n",
      "fast 2.5\n",
      "fast 3.0\n",
      "fast 3.5\n",
      "fast 4.0\n",
      "fast 4.5\n",
      "fast 5.0\n",
      "fast 5.5\n",
      "fast 6.0\n",
      "fast 6.5\n",
      "fast 7.0\n",
      "fast 7.5\n",
      "fast 8.0\n",
      "fast 8.5\n",
      "fast 9.0\n",
      "fast 9.5\n"
     ]
    }
   ],
   "source": [
    "env = simpy.Environment()\n",
    "env.process(clock(env, \"fast\", 0.5))\n",
    "env.run(until=10)"
   ]
  }
 ],
 "metadata": {
  "kernelspec": {
   "display_name": "Python 3",
   "language": "python",
   "name": "python3"
  },
  "language_info": {
   "codemirror_mode": {
    "name": "ipython",
    "version": 3
   },
   "file_extension": ".py",
   "mimetype": "text/x-python",
   "name": "python",
   "nbconvert_exporter": "python",
   "pygments_lexer": "ipython3",
   "version": "3.9.6"
  }
 },
 "nbformat": 4,
 "nbformat_minor": 2
}
